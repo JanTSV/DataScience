{
 "cells": [
  {
   "cell_type": "markdown",
   "metadata": {},
   "source": [
    "# Unemployment rate with level of education\n",
    "by Jan Theil (6099756), 25.11.2021\n",
    "\n",
    "---\n",
    "\n",
    "## Summary\n",
    "The correlation between education and unemplyments rates in Germany and the USA is evaluated in this project.\n",
    "\n",
    "## Tasks\n",
    "The project follows the following steps:\n",
    "0. Collect and download needed data.\n",
    "1. Explore the data about education and employment rates collected from multiple websites.\n",
    "    1. Extract the needed (real) data out of the raw data sets.\n",
    "    2. Visualize data with e.g. histogram, mean, box-plots, ...\n",
    "    3. Pearson correlation coefficient.\n",
    "2. Linear regression.\n",
    "3. RSS vs. polyfit.\n",
    "4. Pairs bootstrap between education and unemployment rates + condifence intervals.\n",
    "5. Plot bootstrap regressions.\n",
    "6. Hypothesis test on Pearson correlation.\n",
    "7. Conclusions.\n",
    "8. Check conclusion against known literature."
   ]
  },
  {
   "cell_type": "code",
   "execution_count": 2,
   "metadata": {},
   "outputs": [],
   "source": [
    "import pandas as pd\n",
    "import matplotlib.pyplot as plt"
   ]
  }
 ],
 "metadata": {
  "interpreter": {
   "hash": "26d227989179591efb96050f4f37ef02bc544eefe0a989a8407a92540235d31b"
  },
  "kernelspec": {
   "display_name": "Python 3.8.5 64-bit ('venv': venv)",
   "name": "python3"
  },
  "language_info": {
   "codemirror_mode": {
    "name": "ipython",
    "version": 3
   },
   "file_extension": ".py",
   "mimetype": "text/x-python",
   "name": "python",
   "nbconvert_exporter": "python",
   "pygments_lexer": "ipython3",
   "version": "3.8.5"
  },
  "orig_nbformat": 4
 },
 "nbformat": 4,
 "nbformat_minor": 2
}
