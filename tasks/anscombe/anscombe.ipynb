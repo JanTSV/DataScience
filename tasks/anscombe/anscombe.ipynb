{
 "cells": [
  {
   "cell_type": "code",
   "execution_count": 1,
   "metadata": {},
   "outputs": [],
   "source": [
    "import pandas as pd\n",
    "import matplotlib.pyplot as plt\n",
    "import seaborn as sns\n",
    "import sklearn.datasets\n",
    "import numpy as np\n",
    "import sys\n",
    "from scipy.stats import norm\n",
    "import scipy.stats as stats\n",
    "import pylab as pl"
   ]
  },
  {
   "cell_type": "code",
   "execution_count": 2,
   "metadata": {},
   "outputs": [
    {
     "name": "stdout",
     "output_type": "stream",
     "text": [
      "Mean X: 9.0  Mean Y: 7.500909090909093\n",
      "Var X: 11.0  Var Y: 4.127269090909091\n",
      "----\n",
      "Mean X: 9.0  Mean Y: 7.50090909090909\n",
      "Var X: 11.0  Var Y: 4.127629090909091\n",
      "----\n",
      "Mean X: 9.0  Mean Y: 7.5\n",
      "Var X: 11.0  Var Y: 4.12262\n",
      "----\n",
      "Mean X: 9.0  Mean Y: 7.500909090909091\n",
      "Var X: 11.0  Var Y: 4.123249090909091\n",
      "----\n"
     ]
    },
    {
     "data": {
      "image/png": "[encoded data removed]",
      "text/plain": [
       "<Figure size 432x288 with 1 Axes>"
      ]
     },
     "metadata": {
      "needs_background": "light"
     },
     "output_type": "display_data"
    }
   ],
   "source": [
    "\"\"\"\n",
    "AUFGABE:\n",
    "\n",
    "Linear regression on appropriate Anscombe data\n",
    "\"\"\"\n",
    "anscombe = pd.read_csv(\"Anscombe_quartet_data.csv\", sep = ',', decimal= \",\")\n",
    "\n",
    "# Create distinct datasets\n",
    "d1 = anscombe[[\"x123\", \"y1\"]].rename(columns={\"x123\": \"X\", \"y1\": \"Y\"})\n",
    "\n",
    "d2 = anscombe[[\"x123\", \"y2\"]].rename(columns={\"x123\": \"X\", \"y2\": \"Y\"})\n",
    "\n",
    "d3 = anscombe[[\"x123\", \"y3\"]].rename(columns={\"x123\": \"X\", \"y3\": \"Y\"})\n",
    "\n",
    "d4 = anscombe[[\"x4\", \"y4\"]].rename(columns={\"x4\": \"X\", \"y4\": \"Y\"})\n",
    "\n",
    "# Statistical metrics\n",
    "l = [d1, d2, d3, d4]\n",
    "colors = [\"red\", \"green\", \"blue\", \"yellow\"]\n",
    "\n",
    "for ix in range(len(l)):\n",
    "    l[ix][\"X\"] = pd.to_numeric(l[ix][\"X\"])\n",
    "    l[ix][\"Y\"] = pd.to_numeric(l[ix][\"Y\"])\n",
    "    print(F\"Mean X: {l[ix]['X'].mean()}  Mean Y: {l[ix]['Y'].mean()}\")\n",
    "    print(F\"Var X: {l[ix]['X'].var()}  Var Y: {l[ix]['Y'].var()}\")\n",
    "    print(\"----\")\n",
    "\n",
    "    # Plot dataset\n",
    "    plt.plot(l[ix][\"X\"], l[ix][\"Y\"], color=colors[ix], marker=\"o\", linewidth=0)\n",
    "\n",
    "    # Linear regression\n",
    "    a, c = np.polyfit(l[ix][\"X\"], l[ix][\"Y\"], 1)\n",
    "    x = np.array([0, 20])\n",
    "\n",
    "    for i in range(20):\n",
    "        plt.plot(x, a * x + c, linewidth=0.5, alpha=0.2, color=\"red\")\n",
    "    \n",
    "    "
   ]
  }
 ],
 "metadata": {
  "interpreter": {
   "hash": "006e78149e6b6c01a28e0a966a7330170b9d5c6f9914968bde281c8bc36b851b"
  },
  "kernelspec": {
   "display_name": "Python 3.8.5 64-bit ('venv': venv)",
   "name": "python3"
  },
  "language_info": {
   "codemirror_mode": {
    "name": "ipython",
    "version": 3
   },
   "file_extension": ".py",
   "mimetype": "text/x-python",
   "name": "python",
   "nbconvert_exporter": "python",
   "pygments_lexer": "ipython3",
   "version": "3.8.5"
  },
  "orig_nbformat": 4
 },
 "nbformat": 4,
 "nbformat_minor": 2
}
